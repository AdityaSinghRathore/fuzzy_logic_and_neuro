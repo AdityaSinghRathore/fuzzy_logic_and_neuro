{
 "cells": [
  {
   "cell_type": "markdown",
   "metadata": {},
   "source": [
    "# Assigmment 1\n",
    "\n",
    "On two fuzzy sets A and B, Implement the following Fuzzy Set\n",
    "Operations:\n",
    "1. Sum (A+B)\n",
    "2. Difference (A-B)\n",
    "3. Cartesian product\n",
    "4. Union (AUB)\n",
    "5. Intersection of A and B\n",
    "6. Complement of A\n"
   ]
  },
  {
   "cell_type": "markdown",
   "metadata": {},
   "source": [
    "***Sum(A+B)***"
   ]
  },
  {
   "cell_type": "code",
   "execution_count": null,
   "metadata": {
    "collapsed": true
   },
   "outputs": [],
   "source": [
    "# Cartesian Co-Product\n",
    "def sum(A,B):\n",
    "    new_set = {}\n",
    "    \n",
    "    for (e,m) in A.items():\n",
    "        for(e1,m1) in B.items():\n",
    "            new_set[(e,e1)] = min(m,m1)\n",
    "    return new_set"
   ]
  },
  {
   "cell_type": "markdown",
   "metadata": {},
   "source": [
    "***Difference(A,B)***"
   ]
  },
  {
   "cell_type": "code",
   "execution_count": null,
   "metadata": {
    "collapsed": true
   },
   "outputs": [],
   "source": [
    "def difference(A,B):\n",
    "    DIFF = {}\n",
    "    if len(A)>len(B):\n",
    "        for (e,m) in A.items():\n",
    "            if e in [i for (i,j) in B.items()]:\n",
    "                continue\n",
    "            else:\n",
    "                DIFF[e]=m\n",
    "    else:            \n",
    "        for (e,m) in B.items():\n",
    "            if e in [i for (i,j) in A.items()]:\n",
    "                continue\n",
    "            else:\n",
    "                DIFF[e]=m\n",
    "    return DIFF"
   ]
  },
  {
   "cell_type": "markdown",
   "metadata": {},
   "source": [
    "***Catesian Product of A and B***"
   ]
  },
  {
   "cell_type": "code",
   "execution_count": 2,
   "metadata": {
    "collapsed": true
   },
   "outputs": [],
   "source": [
    "def cartesian(A,B):\n",
    "    new_set = {}\n",
    "    \n",
    "    for (e,m) in A.items():\n",
    "        for(e1,m1) in B.items():\n",
    "            new_set[(e,e1)] = max(m,m1)\n",
    "    return new_set"
   ]
  },
  {
   "cell_type": "markdown",
   "metadata": {},
   "source": [
    "***Union(A,B)***"
   ]
  },
  {
   "cell_type": "code",
   "execution_count": null,
   "metadata": {
    "collapsed": true
   },
   "outputs": [],
   "source": [
    "def difference(A,B):\n",
    "    DIFF = {}\n",
    "    if len(A)>len(B):\n",
    "        for (e,m) in A.items():\n",
    "            if e in [i for (i,j) in B.items()]:\n",
    "                continue\n",
    "            else:\n",
    "                DIFF[e]=m\n",
    "    else:            \n",
    "        for (e,m) in B.items():\n",
    "            if e in [i for (i,j) in A.items()]:\n",
    "                continue\n",
    "            else:\n",
    "                DIFF[e]=m\n",
    "    return DIFF\n",
    "    \n",
    "def cartesian(A,B):\n",
    "    new_set = {}\n",
    "    \n",
    "    for (e,m) in A.items():\n",
    "        for(e1,m1) in B.items():\n",
    "            new_set[(e,e1)] = max(m,m1)\n",
    "    return new_set\n",
    "\n",
    "\n",
    "def cartesianco(A,B):\n",
    "    new_set = {}\n",
    "    \n",
    "    for (e,m) in A.items():\n",
    "        for(e1,m1) in B.items():\n",
    "            new_set[(e,e1)] = min(m,m1)\n",
    "    return new_set\n",
    "    \n",
    "\n",
    "def union(A,B):\n",
    "    new_set = {}\n",
    "    \n",
    "    for (e,m) in A.items():\n",
    "        if e in [i for (i,k) in B.items()]:\n",
    "            new_set[e] = max(m,B[e]) \n",
    "        else:\n",
    "            new_set[e] = m\n",
    "    \n",
    "    for (e,m) in B.items():\n",
    "        if e in [i for (i,k) in A.items()]:\n",
    "            continue \n",
    "        else:\n",
    "            new_set[e] = m\n",
    "    \n",
    "    return new_set\n",
    "            \n",
    "def intersection(A,B):\n",
    "    new_set = {}\n",
    "    \n",
    "    for (e,m) in A.items():\n",
    "        if e in [i for (i,k) in B.items()]:\n",
    "            new_set[e] = min(m,B[e])\n",
    "    \n",
    "    return new_set\n",
    "\n",
    "def compliment(A):\n",
    "    COMPLIMENT = {}\n",
    "    for (e,m) in A.items():\n",
    "            COMPLIMENT[e]=1.0-m\n",
    "    return COMPLIMENT\n",
    "\n",
    "\n",
    "def core(A):\n",
    "    CORE = {}\n",
    "    for (e,m) in A.items():\n",
    "        if m == 1.0:\n",
    "            CORE[e]=m\n",
    "    return CORE\n",
    "\n",
    "def normal(A):\n",
    "    CORE = core(A)\n",
    "    \n",
    "    if len(CORE) > 0.0 :\n",
    "        return True\n",
    "    else:\n",
    "        return False\n",
    "\n",
    "def height(A):\n",
    "    return max([m for (e,m) in A.items()])\n",
    "\n",
    "\n",
    "def support(A):\n",
    "    SUPPORT = {}\n",
    "    for (e,m) in A.items():\n",
    "        if m > 0.0:\n",
    "            SUPPORT[e]=m\n",
    "    return SUPPORT            \n",
    "\n",
    "\n",
    "def crossover(A):\n",
    "    CSR = {}\n",
    "    for (e,m) in A.items():\n",
    "        if m == 0.5:\n",
    "            CSR[e]=m\n",
    "    return CSR\n"
   ]
  },
  {
   "cell_type": "markdown",
   "metadata": {},
   "source": [
    "___\n",
    "\n",
    "# Assignment 2\n",
    "Implement the following membership functions:\n",
    "1. Triangular\n",
    "2. Trapezoidal\n",
    "3. Gaussian\n",
    "4. Generalized Bell\n",
    "5. Sigmoidal\n"
   ]
  },
  {
   "cell_type": "code",
   "execution_count": null,
   "metadata": {
    "collapsed": true
   },
   "outputs": [],
   "source": []
  },
  {
   "cell_type": "markdown",
   "metadata": {},
   "source": [
    "---\n",
    "# Assignment 3\n",
    "Find applications where you find fuzzy logic to be suitable"
   ]
  },
  {
   "cell_type": "markdown",
   "metadata": {},
   "source": [
    "Fuzzy Logic finds its applications in all scenarios in real world where our computations have to take decicive outcomes on the basis of some ..."
   ]
  },
  {
   "cell_type": "markdown",
   "metadata": {},
   "source": [
    "---\n",
    "# Assignment 4\n",
    "\n",
    "Find specific scenarios where Gaussian Membership function can be applied"
   ]
  },
  {
   "cell_type": "code",
   "execution_count": null,
   "metadata": {},
   "outputs": [],
   "source": []
  },
  {
   "cell_type": "markdown",
   "metadata": {},
   "source": [
    "---\n",
    "# Assignment 5\n",
    "Implement min-max and max-product composition"
   ]
  },
  {
   "cell_type": "code",
   "execution_count": null,
   "metadata": {
    "collapsed": true
   },
   "outputs": [],
   "source": []
  },
  {
   "cell_type": "markdown",
   "metadata": {},
   "source": [
    "---\n",
    "# Assignment 6\n",
    "\n",
    "Consider a universe representing room temperature in degree C and other\n",
    "universe representing relative humidity given by\n",
    "\n",
    "T = 0.4/16 +0.8/18+1.0/20+1.0/22+0.8/24+0.5/26\n",
    "\n",
    "H= 0.2/0+0.8/20+1.0/40+0.6/60+0.2/80\n",
    "\n",
    "Calculate the membership of “ Acceptable Temperature OR Acceptable\n",
    "Humidity”. "
   ]
  },
  {
   "cell_type": "code",
   "execution_count": null,
   "metadata": {
    "collapsed": true
   },
   "outputs": [],
   "source": []
  },
  {
   "cell_type": "markdown",
   "metadata": {},
   "source": [
    "---\n",
    "# Assignment 7\n",
    "\n",
    "Given, following membership functions for fuzzy sets old and young\n",
    " \n",
    "*&mu;<sub>young</sub> = bell( x, 20, 2, 0)*\n",
    "\n",
    "*&mu;<sub>old</sub> = bell( x, 20, 2, 0)*\n",
    "\n",
    "\n",
    "Where, x is the age of the person. Calculate the value of the following:\n",
    "1. More or less young\n",
    "2. Not young and not old\n",
    "3. Young but not too young\n",
    "4. Extremely old"
   ]
  },
  {
   "cell_type": "code",
   "execution_count": null,
   "metadata": {
    "collapsed": true
   },
   "outputs": [],
   "source": []
  },
  {
   "cell_type": "markdown",
   "metadata": {},
   "source": [
    "---\n",
    "# Assignment 8\n",
    "\n",
    "Given, following relations:\n",
    "\n",
    "R1 = “x is relevant to y”\n",
    "\n",
    "R2 = “y is relevant to z”\n",
    "\n",
    "Where\n",
    "\n",
    "X= {1, 2, 3}\n",
    "\n",
    "Y= {a,b,c,d}\n",
    "\n",
    "Z = {one, two}\n",
    "\n",
    "Assuming appropriate values for R1 and R2, calculate the max-min\n",
    "\n",
    "composition and max product composition for (3, one).\n"
   ]
  },
  {
   "cell_type": "markdown",
   "metadata": {},
   "source": []
  },
  {
   "cell_type": "markdown",
   "metadata": {},
   "source": [
    "---\n",
    "# Assignment 9\n",
    "\n",
    "Take different elements of a fuzzy set as user input and defuzzify using\n",
    "1. Bisector of area\n",
    "2. Centroid of area\n",
    "3. Mean of Maximum and, \n",
    "4. Smallest of maximum."
   ]
  },
  {
   "cell_type": "code",
   "execution_count": null,
   "metadata": {
    "collapsed": true
   },
   "outputs": [],
   "source": []
  },
  {
   "cell_type": "markdown",
   "metadata": {},
   "source": [
    "---\n",
    "# Assignment 10\n",
    "\n",
    "Given, following rules:\n",
    "\n",
    "Rule 1: If BP is high and temperature is high then health is Poor\n",
    "\n",
    "Rule2: If BP is normal and temperature is normal then health is Good\n",
    "\n",
    "Rule 3: If BP is low and temperature is normal then health is Normal.\n",
    "\n",
    "Take the values of Blood Pressure and Temperature as User input and determine the health of the person."
   ]
  },
  {
   "cell_type": "markdown",
   "metadata": {},
   "source": []
  },
  {
   "cell_type": "markdown",
   "metadata": {},
   "source": [
    "---\n",
    "# Assignment 11\n",
    "\n",
    "Solve the Air conditioner controller problem using Fuzzy Inference System.\n",
    "Frame the rules. Compare the results using Mamdani, Sugeno and Tsukamoto\n",
    "FIS\n",
    "\n",
    "Rules | Temperature | Humidity | Compressor speed\n",
    ":---|:---|:---|:---|:---:\n",
    "1. |  Very Low | Dry | Off\n",
    "2. | Very Low | Comfortable | Off\n",
    "3. | Very Low | Humid | Off\n",
    "4. | Very Low | Sticky | Low\n",
    "5. | Low | Dry | Off\n",
    "6. | Low | Comfortable | Off\n",
    "7. | Low | Humid | Low\n",
    "8. | Low | Sticky | Medium\n",
    "9. | High | Dry | Low\n",
    "10. | High | Comfortable | Medium\n",
    "11. | High | Humid | Fast\n",
    "12. | High | Sticky | Fast\n",
    "13. | Very High | Dry | Medium\n",
    "14. | Very High | Comfortable | Fast\n",
    "15. | Very High | Humid | Fast\n",
    "16. | Very High | Sticky | Fast "
   ]
  },
  {
   "cell_type": "markdown",
   "metadata": {},
   "source": []
  },
  {
   "cell_type": "markdown",
   "metadata": {},
   "source": [
    "---\n",
    "# Assignment 12\n",
    "\n",
    "Design a Fuzzy logic based washing control on a Washing\n",
    "machine\n",
    "\n",
    "The amount of water, dirt in the cloth and other parameters will\n",
    "decide the time taken in washing\n",
    "\n",
    "* Initialize input parameters like washing time, amount of dirt etc.\n",
    "* Initialize fuzzy system with membership function\n",
    "* Define fuzzy rules\n",
    "* Get fuzzy decision for washing time prediction"
   ]
  },
  {
   "cell_type": "markdown",
   "metadata": {},
   "source": []
  },
  {
   "cell_type": "markdown",
   "metadata": {},
   "source": []
  },
  {
   "cell_type": "markdown",
   "metadata": {},
   "source": []
  }
 ],
 "metadata": {
  "kernelspec": {
   "display_name": "Python 3",
   "language": "python",
   "name": "python3"
  },
  "language_info": {
   "codemirror_mode": {
    "name": "ipython",
    "version": 3
   },
   "file_extension": ".py",
   "mimetype": "text/x-python",
   "name": "python",
   "nbconvert_exporter": "python",
   "pygments_lexer": "ipython3",
   "version": "3.6.3"
  }
 },
 "nbformat": 4,
 "nbformat_minor": 2
}
